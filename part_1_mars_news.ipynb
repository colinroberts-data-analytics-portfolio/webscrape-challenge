{
 "cells": [
  {
   "cell_type": "markdown",
   "metadata": {},
   "source": [
    "# Module 12 Challenge\n",
    "## Deliverable 1: Scrape Titles and Preview Text from Mars News"
   ]
  },
  {
   "cell_type": "code",
   "execution_count": 9,
   "metadata": {},
   "outputs": [],
   "source": [
    "# Import Splinter and BeautifulSoup\n",
    "from splinter import Browser\n",
    "from bs4 import BeautifulSoup"
   ]
  },
  {
   "cell_type": "code",
   "execution_count": 10,
   "metadata": {
    "scrolled": true
   },
   "outputs": [],
   "source": [
    "browser = Browser('chrome')"
   ]
  },
  {
   "cell_type": "markdown",
   "metadata": {},
   "source": [
    "### Step 1: Visit the Website\n",
    "\n",
    "1. Use automated browsing to visit the [Mars news site](https://static.bc-edx.com/data/web/mars_news/index.html). Inspect the page to identify which elements to scrape.\n",
    "\n",
    "      > **Hint** To identify which elements to scrape, you might want to inspect the page by using Chrome DevTools."
   ]
  },
  {
   "cell_type": "code",
   "execution_count": 11,
   "metadata": {},
   "outputs": [],
   "source": [
    "# Visit the Mars news site\n",
    "url = 'https://static.bc-edx.com/data/web/mars_news/index.html'\n",
    "browser.visit(url)"
   ]
  },
  {
   "cell_type": "markdown",
   "metadata": {},
   "source": [
    "### Step 2: Scrape the Website\n",
    "\n",
    "Create a Beautiful Soup object and use it to extract text elements from the website."
   ]
  },
  {
   "cell_type": "code",
   "execution_count": 12,
   "metadata": {},
   "outputs": [],
   "source": [
    "# Create a Beautiful Soup object\n",
    "html = browser.html\n",
    "soup = BeautifulSoup(html, 'html.parser')  "
   ]
  },
  {
   "cell_type": "code",
   "execution_count": 26,
   "metadata": {},
   "outputs": [],
   "source": [
    "def get_summary():\n",
    "    # Collect the HTML from the browser\n",
    "    html = browser.html\n",
    "    # Parse the HTML with Beautiful Soup\n",
    "    soup = BeautifulSoup(html, 'html.parser')\n",
    "    \n",
    "    # Save the main area of the web page to a variable\n",
    "    target_area = soup.find(\"div\", class_=\"row\")\n",
    "    # Find all the articles in the main area of the web page\n",
    "    boxes = target_area.find_all(\"div\", class_=\"list_text\")\n",
    "\n",
    "    # Create an empty list to hold summaries\n",
    "    summary_list = []\n",
    "\n",
    "    # Loop through the containers\n",
    "    for box in boxes:\n",
    "        # Collect the article title\n",
    "        header = box.find(\"div\", class_=\"content_title\").text.strip()\n",
    "        # Collect the article date\n",
    "        date = box.find(\"div\", class_=\"list_date\").text.strip()\n",
    "        # Collect the article description\n",
    "        description = box.find(\"div\", class_=\"article_teaser_body\").text.strip()\n",
    "\n",
    "        # Create the summary dictionary\n",
    "        summary_dict = {\n",
    "            \"header\": header,\n",
    "            \"date\": date,\n",
    "            \"description\": description  # Use the correct variable here\n",
    "        }\n",
    "        # Append the summary dictionary to the list\n",
    "        summary_list.append(summary_dict)\n",
    "        \n",
    "    # Return the list of summaries\n",
    "    return summary_list\n"
   ]
  },
  {
   "cell_type": "code",
   "execution_count": 27,
   "metadata": {},
   "outputs": [
    {
     "data": {
      "text/plain": [
       "[{'header': \"NASA's MAVEN Observes Martian Light Show Caused by Major Solar Storm\",\n",
       "  'date': 'November 9, 2022',\n",
       "  'description': 'For the first time in its eight years orbiting Mars, NASA’s MAVEN mission witnessed two different types of ultraviolet aurorae simultaneously, the result of solar storms that began on Aug. 27.'},\n",
       " {'header': \"NASA Prepares to Say 'Farewell' to InSight Spacecraft\",\n",
       "  'date': 'November 1, 2022',\n",
       "  'description': 'A closer look at what goes into wrapping up the mission as the spacecraft’s power supply continues to dwindle.'},\n",
       " {'header': 'NASA and ESA Agree on Next Steps to Return Mars Samples to Earth',\n",
       "  'date': 'October 28, 2022',\n",
       "  'description': 'The agency’s Perseverance rover will establish the first sample depot on Mars.'},\n",
       " {'header': \"NASA's InSight Lander Detects Stunning Meteoroid Impact on Mars\",\n",
       "  'date': 'October 27, 2022',\n",
       "  'description': 'The agency’s lander felt the ground shake during the impact while cameras aboard the Mars Reconnaissance Orbiter spotted the yawning new crater from space.'},\n",
       " {'header': 'NASA To Host Briefing on InSight, Mars Reconnaissance Orbiter Findings',\n",
       "  'date': 'October 21, 2022',\n",
       "  'description': 'Scientists from two Mars missions will discuss how they combined images and data for a major finding on the Red Planet.'},\n",
       " {'header': 'Why NASA Is Trying To Crash Land on Mars',\n",
       "  'date': 'October 20, 2022',\n",
       "  'description': 'Like a car’s crumple zone, the experimental SHIELD lander is designed to absorb a hard impact.'},\n",
       " {'header': 'Curiosity Mars Rover Reaches Long-Awaited Salty Region',\n",
       "  'date': 'October 19, 2022',\n",
       "  'description': 'After years of climbing, the Mars rover has arrived at a special region believed to have formed as Mars’ climate was drying.'},\n",
       " {'header': 'Mars Mission Shields Up for Tests',\n",
       "  'date': 'October 12, 2022',\n",
       "  'description': 'Protecting Mars Sample Return spacecraft from micrometeorites requires high-caliber work.'},\n",
       " {'header': \"NASA's InSight Waits Out Dust Storm\",\n",
       "  'date': 'October 7, 2022',\n",
       "  'description': 'InSight’s team is taking steps to help the solar-powered lander continue operating for as long as possible.'},\n",
       " {'header': \"NASA's InSight 'Hears' Its First Meteoroid Impacts on Mars\",\n",
       "  'date': 'September 19, 2022',\n",
       "  'description': 'The Mars lander’s seismometer has picked up vibrations from four separate impacts in the past two years.'},\n",
       " {'header': \"NASA's Perseverance Rover Investigates Geologically Rich Mars Terrain\",\n",
       "  'date': 'September 15, 2022',\n",
       "  'description': 'The latest findings provide greater detail on a region of the Red Planet that has a watery past and is yielding promising samples for the NASA-ESA Mars Sample Return campaign.'},\n",
       " {'header': 'NASA to Host Briefing on Perseverance Mars Rover Mission Operations',\n",
       "  'date': 'September 12, 2022',\n",
       "  'description': 'Members of the mission will discuss the rover’s activities as it gathers samples in an ancient river delta.'},\n",
       " {'header': \"NASA's Perseverance Makes New Discoveries in Mars' Jezero Crater\",\n",
       "  'date': 'August 25, 2022',\n",
       "  'description': 'The rover found that Jezero Crater’s floor is made up of volcanic rocks that have interacted with water.'},\n",
       " {'header': \"10 Years Since Landing, NASA's Curiosity Mars Rover Still Has Drive\",\n",
       "  'date': 'August 5, 2022',\n",
       "  'description': 'Despite signs of wear, the intrepid spacecraft is about to start an exciting new chapter of its mission as it climbs a Martian mountain.'},\n",
       " {'header': \"SAM's Top 5 Discoveries Aboard NASA's Curiosity Rover at Mars\",\n",
       "  'date': 'August 4, 2022',\n",
       "  'description': '“Selfie” of the Curiosity rover with inset showing the SAM instrument prior to installation on the rover.'}]"
      ]
     },
     "execution_count": 27,
     "metadata": {},
     "output_type": "execute_result"
    }
   ],
   "source": [
    "# Print the list to confirm success\n",
    "summary = get_summary()\n",
    "summary"
   ]
  },
  {
   "cell_type": "markdown",
   "metadata": {},
   "source": [
    "## extra"
   ]
  },
  {
   "cell_type": "code",
   "execution_count": 29,
   "metadata": {},
   "outputs": [
    {
     "name": "stdout",
     "output_type": "stream",
     "text": [
      "                                               header                date  \\\n",
      "0   NASA's MAVEN Observes Martian Light Show Cause...    November 9, 2022   \n",
      "1   NASA Prepares to Say 'Farewell' to InSight Spa...    November 1, 2022   \n",
      "2   NASA and ESA Agree on Next Steps to Return Mar...    October 28, 2022   \n",
      "3   NASA's InSight Lander Detects Stunning Meteoro...    October 27, 2022   \n",
      "4   NASA To Host Briefing on InSight, Mars Reconna...    October 21, 2022   \n",
      "5            Why NASA Is Trying To Crash Land on Mars    October 20, 2022   \n",
      "6   Curiosity Mars Rover Reaches Long-Awaited Salt...    October 19, 2022   \n",
      "7                   Mars Mission Shields Up for Tests    October 12, 2022   \n",
      "8                 NASA's InSight Waits Out Dust Storm     October 7, 2022   \n",
      "9   NASA's InSight 'Hears' Its First Meteoroid Imp...  September 19, 2022   \n",
      "10  NASA's Perseverance Rover Investigates Geologi...  September 15, 2022   \n",
      "11  NASA to Host Briefing on Perseverance Mars Rov...  September 12, 2022   \n",
      "12  NASA's Perseverance Makes New Discoveries in M...     August 25, 2022   \n",
      "13  10 Years Since Landing, NASA's Curiosity Mars ...      August 5, 2022   \n",
      "14  SAM's Top 5 Discoveries Aboard NASA's Curiosit...      August 4, 2022   \n",
      "\n",
      "                                          description  \n",
      "0   For the first time in its eight years orbiting...  \n",
      "1   A closer look at what goes into wrapping up th...  \n",
      "2   The agency’s Perseverance rover will establish...  \n",
      "3   The agency’s lander felt the ground shake duri...  \n",
      "4   Scientists from two Mars missions will discuss...  \n",
      "5   Like a car’s crumple zone, the experimental SH...  \n",
      "6   After years of climbing, the Mars rover has ar...  \n",
      "7   Protecting Mars Sample Return spacecraft from ...  \n",
      "8   InSight’s team is taking steps to help the sol...  \n",
      "9   The Mars lander’s seismometer has picked up vi...  \n",
      "10  The latest findings provide greater detail on ...  \n",
      "11  Members of the mission will discuss the rover’...  \n",
      "12  The rover found that Jezero Crater’s floor is ...  \n",
      "13  Despite signs of wear, the intrepid spacecraft...  \n",
      "14  “Selfie” of the Curiosity rover with inset sho...  \n"
     ]
    }
   ],
   "source": [
    "import pandas as pd\n",
    "\n",
    "\n",
    "summary = get_summary()\n",
    "\n",
    "\n",
    "summary_df = pd.DataFrame(summary)\n",
    "\n",
    "\n",
    "print(summary_df)"
   ]
  },
  {
   "cell_type": "code",
   "execution_count": 30,
   "metadata": {},
   "outputs": [],
   "source": [
    "browser.quit()"
   ]
  },
  {
   "cell_type": "code",
   "execution_count": null,
   "metadata": {},
   "outputs": [],
   "source": []
  }
 ],
 "metadata": {
  "kernelspec": {
   "display_name": "Python 3 (ipykernel)",
   "language": "python",
   "name": "python3"
  },
  "language_info": {
   "codemirror_mode": {
    "name": "ipython",
    "version": 3
   },
   "file_extension": ".py",
   "mimetype": "text/x-python",
   "name": "python",
   "nbconvert_exporter": "python",
   "pygments_lexer": "ipython3",
   "version": "3.11.7"
  },
  "vscode": {
   "interpreter": {
    "hash": "31f2aee4e71d21fbe5cf8b01ff0e069b9275f58929596ceb00d14d90e3e16cd6"
   }
  }
 },
 "nbformat": 4,
 "nbformat_minor": 4
}
